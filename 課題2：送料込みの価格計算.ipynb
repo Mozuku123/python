{
 "cells": [
  {
   "cell_type": "code",
   "execution_count": 25,
   "id": "03ef59d4",
   "metadata": {},
   "outputs": [
    {
     "name": "stdout",
     "output_type": "stream",
     "text": [
      "送料は無料です\n",
      "送料込みの価格は2200円です。\n"
     ]
    }
   ],
   "source": [
    "price=input(\"税抜価格を入力してください：\")\n",
    "price_with_tax=round(int(price)*1.1)\n",
    "if int(price_with_tax)>=2000:\n",
    "    print(\"送料は無料です\")\n",
    "else:\n",
    "    print(\"送料として350円かかります\")\n",
    "    price_with_tax+=350\n",
    "print(f\"送料込みの価格は{str(price_with_tax)}円です。\")"
   ]
  }
 ],
 "metadata": {
  "kernelspec": {
   "display_name": ".venv",
   "language": "python",
   "name": "python3"
  },
  "language_info": {
   "codemirror_mode": {
    "name": "ipython",
    "version": 3
   },
   "file_extension": ".py",
   "mimetype": "text/x-python",
   "name": "python",
   "nbconvert_exporter": "python",
   "pygments_lexer": "ipython3",
   "version": "3.12.7"
  }
 },
 "nbformat": 4,
 "nbformat_minor": 5
}

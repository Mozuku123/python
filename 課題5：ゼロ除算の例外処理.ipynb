{
 "cells": [
  {
   "cell_type": "code",
   "execution_count": 32,
   "id": "9d2c5c01",
   "metadata": {},
   "outputs": [
    {
     "name": "stdout",
     "output_type": "stream",
     "text": [
      "割られる数を入力してください：9\n",
      "割られる数を入力してください：a\n",
      "エラー：数値を入力してください\n",
      "処理を終了します\n"
     ]
    }
   ],
   "source": [
    "try:\n",
    "    string_value=input(\"割られる数を入力してください：\")\n",
    "    numeric_value=int(string_value)\n",
    "    print(f\"割られる数を入力してください：{numeric_value}\")\n",
    "    string_value=input(\"割る数を入力してください：\")\n",
    "    numeric_value2=int(string_value)\n",
    "    print(f\"割る数を入力してください：{string_value}\")\n",
    "    c = numeric_value / numeric_value2\n",
    "    print(f\"{numeric_value}÷{numeric_value2}={c}\")\n",
    "except ZeroDivisionError:\n",
    "    print(\"エラー：0で割り算しないでください\")\n",
    "except ValueError:\n",
    "    print(f\"割られる数を入力してください：{string_value}\")\n",
    "    print(\"エラー：数値を入力してください\")\n",
    "print(\"処理を終了します\")\n"
   ]
  }
 ],
 "metadata": {
  "kernelspec": {
   "display_name": ".venv",
   "language": "python",
   "name": "python3"
  },
  "language_info": {
   "codemirror_mode": {
    "name": "ipython",
    "version": 3
   },
   "file_extension": ".py",
   "mimetype": "text/x-python",
   "name": "python",
   "nbconvert_exporter": "python",
   "pygments_lexer": "ipython3",
   "version": "3.12.7"
  }
 },
 "nbformat": 4,
 "nbformat_minor": 5
}

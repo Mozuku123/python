{
 "cells": [
  {
   "cell_type": "code",
   "execution_count": 12,
   "id": "fac034e5",
   "metadata": {},
   "outputs": [
    {
     "name": "stdout",
     "output_type": "stream",
     "text": [
      "点数を入力してください: 34\n",
      "点数を入力してください: 55\n",
      "点数を入力してください: 65\n",
      "点数を入力してください: 45\n",
      "点数を入力してください: -1\n",
      "4人のテストの平均点は49.8点です\n"
     ]
    }
   ],
   "source": [
    "sum=0\n",
    "count=0\n",
    "while True:\n",
    "    score=input(\"点数を入力してください：\")\n",
    "    print(f\"点数を入力してください: {score}\")\n",
    "    if int(score)==-1:\n",
    "        break\n",
    "    sum=int(score)+sum\n",
    "    count=count+1\n",
    "\n",
    "print(f\"{count}人のテストの平均点は{round(sum/count,1)}点です\")\n",
    "\n",
    "\n"
   ]
  }
 ],
 "metadata": {
  "kernelspec": {
   "display_name": ".venv",
   "language": "python",
   "name": "python3"
  },
  "language_info": {
   "codemirror_mode": {
    "name": "ipython",
    "version": 3
   },
   "file_extension": ".py",
   "mimetype": "text/x-python",
   "name": "python",
   "nbconvert_exporter": "python",
   "pygments_lexer": "ipython3",
   "version": "3.12.7"
  }
 },
 "nbformat": 4,
 "nbformat_minor": 5
}

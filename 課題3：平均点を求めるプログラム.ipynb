{
 "cells": [
  {
   "cell_type": "code",
   "execution_count": 10,
   "id": "fac034e5",
   "metadata": {},
   "outputs": [
    {
     "name": "stdout",
     "output_type": "stream",
     "text": [
      "10\n",
      "30\n",
      "60\n",
      "100\n",
      "100\n",
      "4\n",
      "4人のテストの平均点は25.0点です\n"
     ]
    }
   ],
   "source": [
    "sum=0\n",
    "count=0\n",
    "while True:\n",
    "    score=input(\"点数を入力してください：\")\n",
    "    if int(score)==-1:\n",
    "        break\n",
    "    sum=int(score)+sum\n",
    "    count=count+1\n",
    "    print(sum)\n",
    "\n",
    "print(sum)\n",
    "print(count)\n",
    "print(f\"{count}人のテストの平均点は{round(sum/count,1)}点です\")\n",
    "\n",
    "\n"
   ]
  }
 ],
 "metadata": {
  "kernelspec": {
   "display_name": ".venv",
   "language": "python",
   "name": "python3"
  },
  "language_info": {
   "codemirror_mode": {
    "name": "ipython",
    "version": 3
   },
   "file_extension": ".py",
   "mimetype": "text/x-python",
   "name": "python",
   "nbconvert_exporter": "python",
   "pygments_lexer": "ipython3",
   "version": "3.12.7"
  }
 },
 "nbformat": 4,
 "nbformat_minor": 5
}

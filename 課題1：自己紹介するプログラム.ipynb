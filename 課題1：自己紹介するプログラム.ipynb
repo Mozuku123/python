{
 "cells": [
  {
   "cell_type": "code",
   "execution_count": 17,
   "id": "870efff2",
   "metadata": {},
   "outputs": [
    {
     "name": "stdout",
     "output_type": "stream",
     "text": [
      "浅井瑞季\n",
      "22\n",
      "私の名前は浅井瑞季 です。来年で 23 歳になります。\n"
     ]
    }
   ],
   "source": [
    "name=input(\"名前を入力してください：\")\n",
    "print(name)\n",
    "age=input(\"現在の年齢を入力してください：\")\n",
    "print(age)\n",
    "print(f\"私の名前は{name} です。来年で {int(age)+1} 歳になります。\")"
   ]
  }
 ],
 "metadata": {
  "kernelspec": {
   "display_name": ".venv",
   "language": "python",
   "name": "python3"
  },
  "language_info": {
   "codemirror_mode": {
    "name": "ipython",
    "version": 3
   },
   "file_extension": ".py",
   "mimetype": "text/x-python",
   "name": "python",
   "nbconvert_exporter": "python",
   "pygments_lexer": "ipython3",
   "version": "3.12.7"
  }
 },
 "nbformat": 4,
 "nbformat_minor": 5
}
